{
 "cells": [
  {
   "cell_type": "markdown",
   "id": "cc25fdd5-3182-43ae-a1c5-0f867012eea9",
   "metadata": {},
   "source": [
    "# Chapter 5. Pretraining on unlabeled data"
   ]
  },
  {
   "cell_type": "code",
   "execution_count": 1,
   "id": "9bede521-94e0-46bc-8772-cd8ca18f09ff",
   "metadata": {},
   "outputs": [],
   "source": [
    "import util\n",
    "import tiktoken\n",
    "import torch\n",
    "\n",
    "from torch.utils.data import DataLoader"
   ]
  },
  {
   "cell_type": "code",
   "execution_count": 2,
   "id": "2feb50bc-5c67-49ad-a649-8c0371230ce9",
   "metadata": {},
   "outputs": [],
   "source": [
    "data = util.text_corpus()\n",
    "split_ratio = 0.8\n",
    "split_idx = int(len(data) * split_ratio)\n",
    "train_data, val_data = data[:split_idx], data[split_idx:]"
   ]
  },
  {
   "cell_type": "code",
   "execution_count": 3,
   "id": "0c236b6e-7d37-46d8-9367-30463ef8cfa2",
   "metadata": {},
   "outputs": [],
   "source": [
    "tokenizer: tiktoken.Encoding = tiktoken.get_encoding('gpt2')"
   ]
  },
  {
   "cell_type": "code",
   "execution_count": 4,
   "id": "3122c963-9228-4af0-b3db-b8af37bc4192",
   "metadata": {},
   "outputs": [],
   "source": [
    "config = util.Config.gpt2_small()\n",
    "torch.manual_seed(123)\n",
    "train_loader = util.create_dataloader_v1(\n",
    "    train_data,\n",
    "    batch_size=2,\n",
    "    context_window=config.context_length,\n",
    "    stride=config.context_length,\n",
    "    shuffle=True,\n",
    "    drop_last=True,\n",
    "    tokenizer=tokenizer,\n",
    ")\n",
    "val_loader = util.create_dataloader_v1(\n",
    "    val_data,\n",
    "    batch_size=2,\n",
    "    context_window=config.context_length,\n",
    "    stride=config.context_length,\n",
    "    shuffle=False,\n",
    "    drop_last=False,\n",
    "    tokenizer=tokenizer,\n",
    ")"
   ]
  },
  {
   "cell_type": "code",
   "execution_count": 5,
   "id": "bc083f1c-f7c4-434e-9ee2-7121f9fda63d",
   "metadata": {},
   "outputs": [
    {
     "name": "stdout",
     "output_type": "stream",
     "text": [
      "train x: torch.Size([2, 1024]), y: torch.Size([2, 1024])\n",
      "train x: torch.Size([2, 1024]), y: torch.Size([2, 1024])\n",
      "val x: torch.Size([1, 1024]), y: torch.Size([1, 1024])\n"
     ]
    }
   ],
   "source": [
    "for x, y in train_loader:\n",
    "    print(f'train x: {x.shape}, y: {y.shape}')\n",
    "for x, y in val_loader:\n",
    "    print(f'val x: {x.shape}, y: {y.shape}')"
   ]
  },
  {
   "cell_type": "code",
   "execution_count": 6,
   "id": "9e4dd2db-72b2-4ecd-b775-efa647dc4734",
   "metadata": {},
   "outputs": [],
   "source": [
    "def calc_loss_batch(\n",
    "    input_batch: torch.Tensor,\n",
    "    target_batch: torch.Tensor,\n",
    "    model: util.GPTModel,\n",
    "    device: torch.device,\n",
    ") -> float:\n",
    "    input_batch, target_batch = input_batch.to(device), target_batch.to(device)\n",
    "    logits = model(input_batch)\n",
    "    loss = torch.nn.functional.cross_entropy(\n",
    "        logits.flatten(0, 1), target_batch.flatten()\n",
    "    )\n",
    "    return loss.item()\n",
    "\n",
    "def calc_loss_data_loader(\n",
    "    data_loader: DataLoader,\n",
    "    model: util.GPTModel,\n",
    "    device: torch.device,\n",
    "    num_batches: int | None = None,\n",
    ") -> float | None:\n",
    "    loss: float = 0\n",
    "    \n",
    "    if len(data_loader) <= 0:\n",
    "        return None\n",
    "    if num_batches is None:\n",
    "        num_batches = len(data_loader)\n",
    "    else:\n",
    "        num_batches = min(num_batches, len(data_loader))\n",
    "    for i, (x, y) in enumerate(data_loader):\n",
    "        if i >= num_batches:\n",
    "            break\n",
    "        loss += calc_loss_batch(x, y, model, device)\n",
    "    return loss / num_batches"
   ]
  },
  {
   "cell_type": "code",
   "execution_count": 7,
   "id": "f2e37747-0a28-4d88-bfcd-4c14a8f52c75",
   "metadata": {},
   "outputs": [],
   "source": [
    "model = util.GPTModel(config)"
   ]
  },
  {
   "cell_type": "code",
   "execution_count": 8,
   "id": "9366dbd1-b95b-4cc5-b73e-8496db1eb36b",
   "metadata": {},
   "outputs": [
    {
     "name": "stdout",
     "output_type": "stream",
     "text": [
      "Train loss: 10.996\n",
      "Val loss: 11.017\n"
     ]
    }
   ],
   "source": [
    "device: torch.device = torch.device('cuda' if torch.cuda.is_available() else 'cpu')\n",
    "with torch.no_grad():\n",
    "    print(f'Train loss: {calc_loss_data_loader(train_loader, model, device):.3f}')\n",
    "    print(f'Val loss: {calc_loss_data_loader(val_loader, model, device):.3f}')"
   ]
  },
  {
   "cell_type": "code",
   "execution_count": null,
   "id": "9cadf471-7b3b-4a6e-b2b1-22b901553e0d",
   "metadata": {},
   "outputs": [],
   "source": []
  }
 ],
 "metadata": {
  "kernelspec": {
   "display_name": "Python 3 (ipykernel)",
   "language": "python",
   "name": "python3"
  },
  "language_info": {
   "codemirror_mode": {
    "name": "ipython",
    "version": 3
   },
   "file_extension": ".py",
   "mimetype": "text/x-python",
   "name": "python",
   "nbconvert_exporter": "python",
   "pygments_lexer": "ipython3",
   "version": "3.13.3"
  }
 },
 "nbformat": 4,
 "nbformat_minor": 5
}
