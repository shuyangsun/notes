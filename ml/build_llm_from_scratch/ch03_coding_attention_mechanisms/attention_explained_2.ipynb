{
 "cells": [
  {
   "cell_type": "markdown",
   "id": "791975c0-7696-4609-a72f-8f2f0a2e73a2",
   "metadata": {},
   "source": [
    "# Self-Attention Visualization"
   ]
  },
  {
   "cell_type": "markdown",
   "id": "b6261e70-2ec0-4ad6-bedd-014fda3b8c47",
   "metadata": {},
   "source": [
    "## 1. High-level goals"
   ]
  },
  {
   "cell_type": "markdown",
   "id": "6d2342ca-cc07-4f2d-aab6-2a406c92721c",
   "metadata": {},
   "source": [
    "### Stage 1\n",
    "\n",
    "Sentence structure: \"[ANIMAL\\] [SOUND\\] [CORRECTNESS\\]\"\n",
    "\n",
    "* \"cat meows right\"\n",
    "* \"dog barks right\"\n",
    "* \"cat barks wrong\"\n",
    "* \"meows cat wrong\"\n",
    "\n",
    "The model should generalize and deduce \"barks cat wrong\"\n",
    "\n",
    "### Stage 2\n",
    "\n",
    "Sentence structure: \"[ANIMAL(S?)\\] [SOUND\\]\"\n",
    "\n",
    "* \"cat meows\"\n",
    "* \"cats meow\"\n",
    "\n",
    "### Stage 3\n",
    "\n",
    "Sentence structure: \"[ANIMAL(S?)\\] see(s?) [ANIMAL(S?)\\], (it|they) [SOUND\\]\"\n",
    "\n",
    "* \"cat sees birds, it meows\"\n",
    "* \"cats see dog, they meow\"\n",
    "\n",
    "### Stage 4\n",
    "\n",
    "Sentence structure: \"[ANIMAL(S?)\\] see(s?) [ANIMAL(S?)\\], (it|they) [SOUND\\] then made [RELATIONSHIP\\] with (it|them)\"\n",
    "\n",
    "* \"cat sees dogs, it meows then made friends with them\"\n",
    "* \"cat sees fly, it meows then made enimies with it\""
   ]
  },
  {
   "cell_type": "markdown",
   "id": "b6da3435-23cb-4b26-b657-9bb86e8319af",
   "metadata": {},
   "source": [
    "## 2. Prompts"
   ]
  },
  {
   "cell_type": "markdown",
   "id": "38314b7a-7467-4c4f-8289-9f2adabbef36",
   "metadata": {},
   "source": [
    "### 2.1 Generate animal sounds"
   ]
  },
  {
   "cell_type": "markdown",
   "id": "7bccc6e7-6313-42a2-b194-7825e4002980",
   "metadata": {},
   "source": [
    "Generate a Python dictionary variable named `animal_sounds` that maps animal names to the sounds they make, subject to the following requirements:\n",
    "\n",
    "1. Each animal name is a single English word.\n",
    "2. Each sound is a single English word.\n",
    "3. The animal name has distinct singular and plural forms.\n",
    "4. The sound has distinct singular and plural forms.\n",
    "5. Use only lowercase letters.\n",
    "6. Use single quotes for string literals.\n",
    "7. Indent with two spaces.\n",
    "8. The more the better, they will be used to generate ML training data."
   ]
  },
  {
   "cell_type": "markdown",
   "id": "b83ac131-aa07-439e-a554-c6d70562116e",
   "metadata": {},
   "source": [
    "* ChatGPT 5 Thinking: https://chatgpt.com/share/68ab3a91-1590-8004-a909-6736e2eea239\n",
    "* Claude Opus 4.1: https://claude.ai/share/881f2e11-f169-4cac-9c30-6e7e2ea274c4\n",
    "* Gemini 2.5 Pro: https://g.co/gemini/share/9c0b083666e8\n",
    "* Grok 4 Expert: https://grok.com/share/c2hhcmQtMw%3D%3D_b95bd4e3-666b-4b4f-9b93-1eb5209c452b"
   ]
  },
  {
   "cell_type": "markdown",
   "id": "16253056-3770-422d-ac16-363834521def",
   "metadata": {},
   "source": [
    "### 2.2 Get singular / plural forms"
   ]
  },
  {
   "cell_type": "markdown",
   "id": "a84d6537-1b1f-414a-9af5-c11de9a18f53",
   "metadata": {},
   "source": [
    "Given the following list of animal names in singular form, generate a Python dictionary named `animal_plural` that maps each name to its plural form. Follow these requirements:\n",
    "\n",
    "1. Use single-quoted string literals.\n",
    "2. Indent with two spaces.\n",
    "3. Map all 251 names.\n",
    "\n",
    "Animal names:\n",
    "\n",
    "..."
   ]
  },
  {
   "cell_type": "markdown",
   "id": "d97fa7f8-ff2f-4b73-8ba2-6ed55d497546",
   "metadata": {},
   "source": [
    "* Gemini 2.5 Pro: https://g.co/gemini/share/633138c2aaa6"
   ]
  },
  {
   "cell_type": "markdown",
   "id": "fac9e0f9-10d7-4ed5-8c25-996dcc72d31b",
   "metadata": {},
   "source": [
    "Given the following list of animal sounds in plural form, generate a Python dictionary named `sound_singular` that maps each sound to its singular form. Follow these requirements:\n",
    "\n",
    "1. Use single-quoted string literals.\n",
    "2. Indent with two spaces.\n",
    "3. Map all 72 sounds.\n",
    "\n",
    "Animal sounds:\n",
    "\n",
    "..."
   ]
  },
  {
   "cell_type": "markdown",
   "id": "8c053d3a-0f59-46a8-9bd9-e52114ac1b4d",
   "metadata": {},
   "source": [
    "## 3. Data generation"
   ]
  },
  {
   "cell_type": "code",
   "execution_count": 1,
   "id": "86221023-669f-4f39-b931-97dc6953991c",
   "metadata": {},
   "outputs": [],
   "source": [
    "import random\n",
    "\n",
    "import explain_util as util"
   ]
  },
  {
   "cell_type": "code",
   "execution_count": 2,
   "id": "a6a68da0-8ed6-4470-bc20-05794a7baba2",
   "metadata": {},
   "outputs": [],
   "source": [
    "SEED: int = 1234\n",
    "random.seed(SEED)"
   ]
  },
  {
   "cell_type": "code",
   "execution_count": 3,
   "id": "9a722380-da1d-4c4b-9f55-e4fea82f83f5",
   "metadata": {},
   "outputs": [
    {
     "name": "stdout",
     "output_type": "stream",
     "text": [
      "Unique animals: 2\n",
      "Unique sounds: 2\n"
     ]
    }
   ],
   "source": [
    "animals: list[str] = ['dog', 'cat']\n",
    "sounds: list[str] = sorted([util.get_animal_sound(animal) for animal in animals])\n",
    "print(f'Unique animals: {len(animals)}')\n",
    "print(f'Unique sounds: {len(sounds)}')"
   ]
  },
  {
   "cell_type": "code",
   "execution_count": 4,
   "id": "b82fa928-62cc-4b85-a4dd-481c1e4e48bc",
   "metadata": {},
   "outputs": [
    {
     "name": "stdout",
     "output_type": "stream",
     "text": [
      "Number of sentences: 16\n",
      "Example: \"cat meows right\"\n"
     ]
    }
   ],
   "source": [
    "text_corpus: list[str] = []\n",
    "for animal in animals:\n",
    "    sound = util.get_animal_sound(animal)\n",
    "    text_corpus.append(f'{animal} {sound} right')\n",
    "    # text_corpus.append(f'{sound} {animal} wrong')\n",
    "    wrong_sound = sound\n",
    "    while wrong_sound == sound:\n",
    "        wrong_sound = random.choice(sounds)\n",
    "    text_corpus.append(f'{animal} {wrong_sound} wrong')\n",
    "\n",
    "text_corpus = [\n",
    "    \"cat meows right\",\n",
    "    \"dog barks right\",\n",
    "    \"cat barks wrong\",\n",
    "    \"dog meows wrong\",\n",
    "    \"meows cat wrong\",\n",
    "    \"meows dog wrong\",\n",
    "    \"barks dog wrong\",\n",
    "    \"barks cat wrong\",\n",
    "    \"meows meows wrong\",\n",
    "    \"barks barks wrong\",\n",
    "    \"meows barks wrong\",\n",
    "    \"barks meows wrong\",\n",
    "    \"cat cat wrong\",\n",
    "    \"dog dog wrong\",\n",
    "    \"cat dog wrong\",\n",
    "    \"dog cat wrong\",\n",
    "]\n",
    "example = text_corpus[0]\n",
    "print(f'Number of sentences: {len(text_corpus)}')\n",
    "print(f'Example: \"{example}\"')"
   ]
  },
  {
   "cell_type": "markdown",
   "id": "0629482c-fe98-4202-883e-7620e2339c64",
   "metadata": {},
   "source": [
    "## 4. Tokenizer"
   ]
  },
  {
   "cell_type": "code",
   "execution_count": 5,
   "id": "39c4ab31-4d70-45db-b3c5-bf6733dae56c",
   "metadata": {},
   "outputs": [],
   "source": [
    "from bidict import bidict\n",
    "\n",
    "class TokenizerV1:\n",
    "    def __init__(self, vocab: list[int]):\n",
    "        self._word_to_token_id: bidict[str, int] = bidict(\n",
    "            {word: i for i, word in enumerate(['wrong', 'right'] + vocab)}\n",
    "        )\n",
    "\n",
    "    @property\n",
    "    def vocab_size(self) -> int:\n",
    "        return len(self._word_to_token_id)\n",
    "\n",
    "    def encode(self, content: str) -> list[int]:\n",
    "        return [self._word_to_token_id[word] for word in content.split()]\n",
    "\n",
    "    def decode(self, token_ids: list[int]) -> str:\n",
    "        return ' '.join([self._word_to_token_id.inverse[token] for token in token_ids])"
   ]
  },
  {
   "cell_type": "code",
   "execution_count": 6,
   "id": "5943de0e-3db1-49c4-953b-194cd865f20f",
   "metadata": {},
   "outputs": [],
   "source": [
    "vocab: list[str] = animals + sounds\n",
    "random.shuffle(vocab)\n",
    "tokenizer = TokenizerV1(vocab)"
   ]
  },
  {
   "cell_type": "code",
   "execution_count": 7,
   "id": "9905a230-1db7-4361-89fe-a0b579630d7e",
   "metadata": {},
   "outputs": [
    {
     "name": "stdout",
     "output_type": "stream",
     "text": [
      "Vocabulary size: 6\n",
      "Example: \"cat meows right\"\n",
      "Encoded: [2, 4, 1]\n",
      "Decoded: \"cat meows right\" (matches: True)\n"
     ]
    }
   ],
   "source": [
    "encoded: list[int] = tokenizer.encode(example)\n",
    "decoded: str = tokenizer.decode(encoded)\n",
    "print(f'Vocabulary size: {tokenizer.vocab_size}')\n",
    "print(f'Example: \"{example}\"')\n",
    "print(f'Encoded: {encoded}')\n",
    "print(f'Decoded: \"{decoded}\" (matches: {example == decoded})')"
   ]
  },
  {
   "cell_type": "code",
   "execution_count": 8,
   "id": "96fbeb60-bc16-4fd4-99ec-c4e5d25733e4",
   "metadata": {},
   "outputs": [
    {
     "name": "stdout",
     "output_type": "stream",
     "text": [
      "Example data: ([2, 4], [1]) ---> ([cat meows] [right])\n"
     ]
    }
   ],
   "source": [
    "encoded: list[list[int]] = [tokenizer.encode(sentence) for sentence in text_corpus]\n",
    "data: list[(list[int], list[int])] = [(sentence[:2], [sentence[2]]) for sentence in encoded]\n",
    "print(f'Example data: {data[0]} ---> ([{tokenizer.decode(data[0][0])}] [{tokenizer.decode(data[0][1])}])')"
   ]
  },
  {
   "cell_type": "markdown",
   "id": "5790a9a9-8a3e-4987-b5c7-6fa11c820f63",
   "metadata": {},
   "source": [
    "## 5. Embedding alone"
   ]
  },
  {
   "cell_type": "code",
   "execution_count": 9,
   "id": "9d7f21ad-fe80-4686-9be7-1bf7669c9b98",
   "metadata": {},
   "outputs": [],
   "source": [
    "import torch\n",
    "\n",
    "import numpy as np\n",
    "import torch.nn as nn\n",
    "\n",
    "from torch.nn import functional as F"
   ]
  },
  {
   "cell_type": "code",
   "execution_count": 10,
   "id": "fd0a87af-3bbb-4711-89b2-f223b7cfd982",
   "metadata": {},
   "outputs": [
    {
     "data": {
      "text/plain": [
       "<torch._C.Generator at 0x112278890>"
      ]
     },
     "execution_count": 10,
     "metadata": {},
     "output_type": "execute_result"
    }
   ],
   "source": [
    "torch.manual_seed(SEED)"
   ]
  },
  {
   "cell_type": "code",
   "execution_count": 11,
   "id": "0b7ea24d-8406-4acd-a516-7ec2281bb669",
   "metadata": {},
   "outputs": [],
   "source": [
    "x = torch.tensor([ele[0] for ele in data])\n",
    "y = torch.tensor([ele[1] for ele in data])"
   ]
  },
  {
   "cell_type": "code",
   "execution_count": 12,
   "id": "97702556-a3a8-4074-bf14-d818e591ae07",
   "metadata": {},
   "outputs": [],
   "source": [
    "class WordPosEmbeddings(nn.Module):\n",
    "    def __init__(self, vocab_size: int, embed_dim: int = 2):\n",
    "        super().__init__()\n",
    "        self._token_embed = nn.Embedding(vocab_size, embed_dim)\n",
    "        self._pos_embed = nn.Embedding(2, embed_dim)\n",
    "\n",
    "    def forward(self, x: torch.Tensor) -> torch.Tensor:\n",
    "        return self._token_embed(x) + self._pos_embed(torch.arange(2))"
   ]
  },
  {
   "cell_type": "code",
   "execution_count": 13,
   "id": "6e640377-3e37-445d-ae13-67b327de7739",
   "metadata": {},
   "outputs": [
    {
     "name": "stdout",
     "output_type": "stream",
     "text": [
      "Example: tensor([[-0.7672, -0.8670],\n",
      "        [-0.3988,  3.0633]], grad_fn=<AddBackward0>)\n",
      "Result shape: torch.Size([16, 2, 2])\n"
     ]
    }
   ],
   "source": [
    "embedding = WordPosEmbeddings(tokenizer.vocab_size)\n",
    "print(f'Example: {embedding(torch.tensor(data[0][0]))}')\n",
    "print(f'Result shape: {embedding(x).shape}')"
   ]
  },
  {
   "cell_type": "code",
   "execution_count": 14,
   "id": "71c8301a-eb00-48f5-bb53-1814914aac53",
   "metadata": {},
   "outputs": [],
   "source": [
    "class EmbeddingAndFC(nn.Module):\n",
    "    def __init__(self, vocab_size: int, embed_dim: int = 2):\n",
    "        super().__init__()\n",
    "        self._embed = WordPosEmbeddings(vocab_size, embed_dim=embed_dim)\n",
    "\n",
    "    def forward(\n",
    "        self,\n",
    "        x: torch.Tensor,\n",
    "        y: torch.Tensor | None = None\n",
    "    ) -> (torch.Tensor, torch.Tensor | None):\n",
    "        embedding = self._embed(x)\n",
    "        v1 = embedding[:, 0, :]\n",
    "        v2 = embedding[:, 1, :]\n",
    "        result = torch.sum(v1 * v2, dim=1, keepdim=True)\n",
    "        loss = None\n",
    "        if y is not None:\n",
    "            loss = F.binary_cross_entropy_with_logits(result.squeeze(), y.squeeze())\n",
    "        return result, loss\n",
    "\n",
    "    def predict(self, text: str) -> float:\n",
    "        tokenized = torch.tensor(tokenizer.encode(text)).unsqueeze(0)\n",
    "        with torch.no_grad():\n",
    "            result, _ = self.forward(tokenized)\n",
    "            probability = torch.sigmoid(result).item()\n",
    "        return probability\n",
    "\n",
    "    def get_word_pos_embedding(self, word: str, pos: int, tokenizer: TokenizerV1) -> np.ndarray:\n",
    "        text = f'{word} cat' if pos == 0 else f'cat {word}'\n",
    "        return self._embed(torch.tensor(tokenizer.encode(text))).cpu().detach().numpy()[pos]"
   ]
  },
  {
   "cell_type": "code",
   "execution_count": 15,
   "id": "81a4a2b0-cf9f-489a-9875-99e5f540f783",
   "metadata": {
    "scrolled": true
   },
   "outputs": [
    {
     "name": "stdout",
     "output_type": "stream",
     "text": [
      "Model parameters: 16\n",
      "Forward (no y):\n",
      "(tensor([[ 0.6072],\n",
      "        [-0.3054],\n",
      "        [ 0.1293],\n",
      "        [-0.0158],\n",
      "        [ 0.1116],\n",
      "        [-0.0733],\n",
      "        [-0.0108],\n",
      "        [-0.0142],\n",
      "        [ 1.0382],\n",
      "        [-0.0482],\n",
      "        [-0.2097],\n",
      "        [ 0.1424],\n",
      "        [ 0.4489],\n",
      "        [-0.0103],\n",
      "        [-0.0335],\n",
      "        [-0.4716]], grad_fn=<SumBackward1>), None)\n",
      "Forward (with y):\n",
      "(tensor([[ 0.6072],\n",
      "        [-0.3054],\n",
      "        [ 0.1293],\n",
      "        [-0.0158],\n",
      "        [ 0.1116],\n",
      "        [-0.0733],\n",
      "        [-0.0108],\n",
      "        [-0.0142],\n",
      "        [ 1.0382],\n",
      "        [-0.0482],\n",
      "        [-0.2097],\n",
      "        [ 0.1424],\n",
      "        [ 0.4489],\n",
      "        [-0.0103],\n",
      "        [-0.0335],\n",
      "        [-0.4716]], grad_fn=<SumBackward1>), tensor(0.7302, grad_fn=<BinaryCrossEntropyWithLogitsBackward0>))\n"
     ]
    }
   ],
   "source": [
    "model = EmbeddingAndFC(tokenizer.vocab_size)\n",
    "num_params = sum(p.numel() for p in model.parameters())\n",
    "print(f'Model parameters: {num_params}')\n",
    "print(f'Forward (no y):\\n{model(x)}')\n",
    "print(f'Forward (with y):\\n{model(x, y.to(torch.float32))}')"
   ]
  },
  {
   "cell_type": "markdown",
   "id": "801f8bf4-27cb-4578-ba61-f0d615b1a433",
   "metadata": {},
   "source": [
    "## 6. Visualize embedding before training"
   ]
  },
  {
   "cell_type": "code",
   "execution_count": 16,
   "id": "5d6ca106-cd1c-4858-bee0-9aa419942c16",
   "metadata": {},
   "outputs": [],
   "source": [
    "import matplotlib.pyplot as plt"
   ]
  },
  {
   "cell_type": "code",
   "execution_count": 17,
   "id": "a81d52be-2c30-45be-890b-3d56a50c8cec",
   "metadata": {},
   "outputs": [],
   "source": [
    "def get_vocab_embeddings(final_nn: EmbeddingAndFC, vocab: list[str]) -> dict[str, np.ndarray]:\n",
    "    result = dict()\n",
    "    for word in vocab:\n",
    "        for pos in range(2):\n",
    "            word_with_pos = f'{word}_{pos}'\n",
    "            result[word_with_pos] = final_nn.get_word_pos_embedding(word, pos, tokenizer)\n",
    "    return result"
   ]
  },
  {
   "cell_type": "code",
   "execution_count": 18,
   "id": "27015540-81e9-4b11-8d14-75875bae1190",
   "metadata": {},
   "outputs": [],
   "source": [
    "def plot_2d(title: str, points: dict[str, np.ndarray]):\n",
    "    \"\"\"\n",
    "    Plots 2D vectors as arrows starting from the origin.\n",
    "\n",
    "    Args:\n",
    "        title: The title of the plot.\n",
    "        points: A dictionary where keys are labels and values are 2D NumPy arrays (vectors).\n",
    "    \"\"\"\n",
    "    labels = list(points.keys())\n",
    "    coords = np.array(list(points.values()))\n",
    "\n",
    "    # 1. Create the plot\n",
    "    fig, ax = plt.subplots(figsize=(8, 8))\n",
    "    animals_set = set(animals)\n",
    "\n",
    "    # 2. Loop through each point to plot an arrow and its label\n",
    "    for i, label in enumerate(labels):\n",
    "        x, y = coords[i]\n",
    "\n",
    "        color = 'orange' if label.endswith('0') else 'blue'\n",
    "        # Plot the arrow from origin (0,0) to the point (x,y)\n",
    "        length = (x ** 2 + y ** 2) ** 0.5\n",
    "        ax.arrow(0, 0, x, y, \n",
    "                 head_width=length / 30, \n",
    "                 head_length=length / 15, \n",
    "                 fc=color, \n",
    "                 ec=color,\n",
    "                 length_includes_head=False)\n",
    "        \n",
    "        # Add the label near the arrowhead\n",
    "        ax.annotate(label, (x, y),\n",
    "                    textcoords=\"offset points\", # Position the text\n",
    "                    xytext=(0, 10),             # Distance from text to points (x,y)\n",
    "                    ha='center')                # Horizontal alignment\n",
    "\n",
    "    # 3. Determine the plot limits to ensure all arrows are visible\n",
    "    max_val = np.max(np.abs(coords)) * 1.2 # Find max coordinate value and add 20% padding\n",
    "    ax.set_xlim([-max_val, max_val])\n",
    "    ax.set_ylim([-max_val, max_val])\n",
    "\n",
    "    # 4. Add axes lines for reference\n",
    "    ax.axhline(0, color='grey', lw=1, linestyle='--')\n",
    "    ax.axvline(0, color='grey', lw=1, linestyle='--')\n",
    "\n",
    "    # 5. Customize and show the plot\n",
    "    ax.set_title(title)\n",
    "    ax.set_xlabel(\"X-axis\")\n",
    "    ax.set_ylabel(\"Y-axis\")\n",
    "    ax.grid(True)\n",
    "    ax.set_aspect('equal', adjustable='box') # Ensure arrows aren't distorted\n",
    "    plt.tight_layout()\n",
    "    plt.show()"
   ]
  },
  {
   "cell_type": "code",
   "execution_count": 19,
   "id": "8be49274-6c94-47ed-bcef-fdb4b556f287",
   "metadata": {},
   "outputs": [
    {
     "data": {
      "image/png": "[encoded data removed]",
      "text/plain": [
       "<Figure size 800x800 with 1 Axes>"
      ]
     },
     "metadata": {},
     "output_type": "display_data"
    }
   ],
   "source": [
    "plot_2d('Embedding (before training)', get_vocab_embeddings(model, vocab))"
   ]
  },
  {
   "cell_type": "markdown",
   "id": "cb4bfb70-ac09-4218-a0d9-f49f816c7fef",
   "metadata": {},
   "source": [
    "## 7. Training"
   ]
  },
  {
   "cell_type": "code",
   "execution_count": 20,
   "id": "100732a3-f7d9-4b66-8618-544eeb8eefb0",
   "metadata": {},
   "outputs": [
    {
     "name": "stdout",
     "output_type": "stream",
     "text": [
      "Epoch 0, Loss: 0.7302\n",
      "Epoch 1000, Loss: 0.2413\n",
      "Epoch 2000, Loss: 0.1212\n",
      "Epoch 3000, Loss: 0.0603\n",
      "Epoch 4000, Loss: 0.0265\n",
      "Epoch 5000, Loss: 0.0116\n",
      "Epoch 6000, Loss: 0.0054\n",
      "Epoch 7000, Loss: 0.0027\n",
      "Epoch 8000, Loss: 0.0014\n",
      "Epoch 9000, Loss: 0.0008\n",
      "Final Loss: 0.0004\n",
      "Targets:\n",
      "tensor([[1],\n",
      "        [1],\n",
      "        [0],\n",
      "        [0],\n",
      "        [0],\n",
      "        [0],\n",
      "        [0],\n",
      "        [0],\n",
      "        [0],\n",
      "        [0],\n",
      "        [0],\n",
      "        [0],\n",
      "        [0],\n",
      "        [0],\n",
      "        [0],\n",
      "        [0]])\n"
     ]
    }
   ],
   "source": [
    "optimizer = torch.optim.AdamW(model.parameters(), lr=1e-3)\n",
    "for epoch in range(10_000):\n",
    "    output, loss = model(x, y.to(torch.float32))\n",
    "    optimizer.zero_grad()\n",
    "    loss.backward()\n",
    "    optimizer.step()\n",
    "    if epoch % 1000 == 0:\n",
    "        print(f'Epoch {epoch}, Loss: {loss.item():.4f}')\n",
    "\n",
    "print(f'Final Loss: {loss.item():.4f}')\n",
    "print(f'Targets:\\n{y}')"
   ]
  },
  {
   "cell_type": "code",
   "execution_count": 21,
   "id": "9a5b194c-b370-4396-b060-5fba6b37e944",
   "metadata": {},
   "outputs": [
    {
     "name": "stdout",
     "output_type": "stream",
     "text": [
      "Unseen example: 9.98236493465754e-10\n"
     ]
    }
   ],
   "source": [
    "print(f'Unseen example: {model.predict('dog meows')}')"
   ]
  },
  {
   "cell_type": "code",
   "execution_count": 22,
   "id": "173159c4-edd1-4507-a5f1-abc6acc683ee",
   "metadata": {},
   "outputs": [
    {
     "data": {
      "image/png": "[encoded data removed]",
      "text/plain": [
       "<Figure size 800x800 with 1 Axes>"
      ]
     },
     "metadata": {},
     "output_type": "display_data"
    }
   ],
   "source": [
    "plot_2d('Embedding (after training)', get_vocab_embeddings(model, vocab))"
   ]
  },
  {
   "cell_type": "code",
   "execution_count": null,
   "id": "c52df4ca-b579-4c3a-9ea8-4b708f3d89ef",
   "metadata": {},
   "outputs": [],
   "source": []
  }
 ],
 "metadata": {
  "kernelspec": {
   "display_name": "Python 3 (ipykernel)",
   "language": "python",
   "name": "python3"
  },
  "language_info": {
   "codemirror_mode": {
    "name": "ipython",
    "version": 3
   },
   "file_extension": ".py",
   "mimetype": "text/x-python",
   "name": "python",
   "nbconvert_exporter": "python",
   "pygments_lexer": "ipython3",
   "version": "3.13.3"
  }
 },
 "nbformat": 4,
 "nbformat_minor": 5
}
