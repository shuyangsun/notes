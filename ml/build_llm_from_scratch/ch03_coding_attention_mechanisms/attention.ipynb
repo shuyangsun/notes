{
 "cells": [
  {
   "cell_type": "markdown",
   "id": "0aac016e-d730-4100-8d4b-e04e734de03d",
   "metadata": {},
   "source": [
    "# Chapter 3: Coding attention mechanisms"
   ]
  },
  {
   "cell_type": "code",
   "execution_count": 2,
   "id": "6a8aad1b-6247-43f3-9f39-af5278183f34",
   "metadata": {},
   "outputs": [],
   "source": [
    "import util"
   ]
  },
  {
   "cell_type": "code",
   "execution_count": null,
   "id": "8ce1d662-e5a4-4378-a996-6a5aa28cbada",
   "metadata": {},
   "outputs": [],
   "source": []
  }
 ],
 "metadata": {
  "kernelspec": {
   "display_name": "Python 3 (ipykernel)",
   "language": "python",
   "name": "python3"
  },
  "language_info": {
   "codemirror_mode": {
    "name": "ipython",
    "version": 3
   },
   "file_extension": ".py",
   "mimetype": "text/x-python",
   "name": "python",
   "nbconvert_exporter": "python",
   "pygments_lexer": "ipython3",
   "version": "3.13.3"
  }
 },
 "nbformat": 4,
 "nbformat_minor": 5
}
